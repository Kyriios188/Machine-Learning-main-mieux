{
 "cells": [
  {
   "cell_type": "markdown",
   "metadata": {},
   "source": [
    "## Objectives of the practical work\n",
    "\n",
    "The objective is to get hands on experience on the fundamental elements of neural networks:\n",
    " \n",
    " - perceptron architecture (linear regression)\n",
    " - loss function\n",
    " - empirical loss\n",
    " - gradient descent\n",
    "\n",
    "For this we will implement from scratch the data-structure and algorithms to train a perceptron. Note that slides related to the perceptron and neural networks in general are available on [moodle](https://moodle.insa-toulouse.fr/course/view.php?id=1822#section-2).\n",
    "\n",
    "## Dataset\n",
    "\n",
    "The objective of the regression is the prediction of the hydrodynamic performance of sailing yachts from dimensions and velocity.\n",
    "The **inputs** are linked to dimension and hydrodynamics characteristics:\n",
    "1. Longitudinal position of the center of buoyancy\n",
    "(*flottabilité*), adimensional.\n",
    "2. Prismatic coefficient, adimensional.\n",
    "3. Length-displacement ratio, adimensional.\n",
    "4. Beam -draught ratio ((*tiran d’eau*), adimensional.\n",
    "5. Length-beam ratio, adimensional.\n",
    "6. Froude number, adimensional\n",
    "\n",
    "**Target value/predicted value (Output)** = Residuary resistance per unit weight of\n",
    "displacement, adimensional"
   ]
  },
  {
   "cell_type": "code",
   "execution_count": 20,
   "metadata": {},
   "outputs": [],
   "source": [
    "# Import some useful libraries and functions\n",
    "\n",
    "import numpy as np\n",
    "import pandas\n",
    "\n",
    "def print_stats(dataset):\n",
    "    \"\"\"Print statistics of a dataset\"\"\"\n",
    "    print(pandas.DataFrame(dataset).describe())\n"
   ]
  },
  {
   "cell_type": "code",
   "execution_count": 21,
   "metadata": {},
   "outputs": [
    {
     "name": "stdout",
     "output_type": "stream",
     "text": [
      "Dataset available\n"
     ]
    }
   ],
   "source": [
    "# Download the data set and place in the current folder (works on linux only)\n",
    "filename = 'yacht_hydrodynamics.data'\n",
    "\n",
    "import os.path\n",
    "import requests\n",
    "\n",
    "if not os.path.exists(filename):\n",
    "    print(\"Downloading dataset...\")\n",
    "    r = requests.get('https://arbimo.github.io/tp-supervised-learning/tp2/' + filename)\n",
    "    open(filename , 'wb').write(r.content)\n",
    "    \n",
    "print('Dataset available')"
   ]
  },
  {
   "cell_type": "markdown",
   "metadata": {},
   "source": [
    "### Explore the dataset\n",
    "\n",
    "- how many examples are there in the dataset?\n",
    "- how many features for each example?\n",
    "- what is the ground truth of the 10th example"
   ]
  },
  {
   "cell_type": "code",
   "execution_count": 22,
   "metadata": {},
   "outputs": [
    {
     "name": "stdout",
     "output_type": "stream",
     "text": [
      "des exemples y en a: 308\n",
      "                0           1           2           3           4           5\n",
      "count  308.000000  308.000000  308.000000  308.000000  308.000000  308.000000\n",
      "mean    -2.381818    0.564136    4.788636    3.936818    3.206818    0.287500\n",
      "std      1.513219    0.023290    0.253057    0.548193    0.247998    0.100942\n",
      "min     -5.000000    0.530000    4.340000    2.810000    2.730000    0.125000\n",
      "25%     -2.400000    0.546000    4.770000    3.750000    3.150000    0.200000\n",
      "50%     -2.300000    0.565000    4.780000    3.955000    3.150000    0.287500\n",
      "75%     -2.300000    0.574000    5.100000    4.170000    3.510000    0.375000\n",
      "max      0.000000    0.600000    5.140000    5.350000    3.640000    0.450000\n",
      "f([-5.    0.6   4.78  4.24  3.15  0.35]) = 8.62\n",
      "f([-5.     0.565  4.77   3.99   3.15   0.15 ]) = 0.18\n",
      "f([-2.3    0.565  4.78   5.35   2.76   0.15 ]) = 0.29\n",
      "f([-5.     0.6    4.78   4.24   3.15   0.325]) = 6.2\n",
      "f([0.    0.53  4.78  3.75  3.15  0.175]) = 0.59\n",
      "f([-2.3    0.568  4.78   3.99   3.17   0.25 ]) = 1.82\n",
      "f([-5.    0.53  4.78  3.75  3.15  0.45]) = 55.87\n",
      "f([-5.     0.565  5.1    3.94   3.51   0.175]) = 0.45\n",
      "f([-2.2    0.546  4.78   4.13   3.07   0.3  ]) = 3.45\n",
      "f([-5.     0.565  4.77   3.99   3.15   0.25 ]) = 1.83\n",
      "Le ground truth du dixième c'est 1.83\n"
     ]
    }
   ],
   "source": [
    "# loads the dataset and slip between inputs (X) and ground truth (Y)\n",
    "dataset = np.genfromtxt(\"yacht_hydrodynamics.data\", delimiter='')\n",
    "X = dataset[:, :-1] # examples features\n",
    "Y = dataset[:, -1]  # ground truth\n",
    "print(\"des exemples y en a: \"+str(len(X))) #y a donc 308 exemples\n",
    "# Print the first 5 examples\n",
    "print_stats(X)\n",
    "for i in range(0,10):\n",
    "    print(f\"f({X[i]}) = {Y[i]}\")\n",
    "    if (i==9):\n",
    "        print(f\"Le ground truth du dixième c'est {Y[i]}\")\n",
    "        \n",
    "#des features y en a 6"
   ]
  },
  {
   "cell_type": "markdown",
   "metadata": {},
   "source": [
    "The following command adds a column to the inputs.\n",
    "\n",
    "- what is in the value added this column?\n",
    "- why are we doing this?"
   ]
  },
  {
   "cell_type": "markdown",
   "metadata": {},
   "source": [
    "On insère une colonne de 1 au début\n",
    "Cela correspond à la constante w0 nécessaire pour la suite. C'est la valeur d'initialisation, elle sera modifiée ensuite au fil de l'algorithme."
   ]
  },
  {
   "cell_type": "code",
   "execution_count": 23,
   "metadata": {},
   "outputs": [
    {
     "name": "stdout",
     "output_type": "stream",
     "text": [
      "           0           1           2           3           4           5  \\\n",
      "count  308.0  308.000000  308.000000  308.000000  308.000000  308.000000   \n",
      "mean     1.0   -2.381818    0.564136    4.788636    3.936818    3.206818   \n",
      "std      0.0    1.513219    0.023290    0.253057    0.548193    0.247998   \n",
      "min      1.0   -5.000000    0.530000    4.340000    2.810000    2.730000   \n",
      "25%      1.0   -2.400000    0.546000    4.770000    3.750000    3.150000   \n",
      "50%      1.0   -2.300000    0.565000    4.780000    3.955000    3.150000   \n",
      "75%      1.0   -2.300000    0.574000    5.100000    4.170000    3.510000   \n",
      "max      1.0    0.000000    0.600000    5.140000    5.350000    3.640000   \n",
      "\n",
      "                6  \n",
      "count  308.000000  \n",
      "mean     0.287500  \n",
      "std      0.100942  \n",
      "min      0.125000  \n",
      "25%      0.200000  \n",
      "50%      0.287500  \n",
      "75%      0.375000  \n",
      "max      0.450000  \n"
     ]
    }
   ],
   "source": [
    "X = np.insert(X, 0, np.ones((len(X))), axis= 1)\n",
    "print_stats(X)"
   ]
  },
  {
   "cell_type": "markdown",
   "metadata": {},
   "source": [
    "## Creating the perceptron\n",
    "\n",
    "![Perceptron for regression](https://arbimo.github.io/tp-supervised-learning/tp2/perceptron-regression.png)\n",
    "\n",
    "We now want to define a perceptron, that is, a function of the form: \n",
    "\n",
    "$h_w(x) = w_0 + w_1 \\times x_1 + \\dots + w_n \\times x_n$\n",
    "\n",
    "- Complete the code snippet below to:\n",
    "  - create the vector of weight `w`\n",
    "  - implement the `h` function that evaluate an example based on the vector of weights\n",
    "  - check if this works on a few examples"
   ]
  },
  {
   "cell_type": "code",
   "execution_count": 106,
   "metadata": {},
   "outputs": [
    {
     "name": "stdout",
     "output_type": "stream",
     "text": [
      "23\n",
      "0.0\n"
     ]
    }
   ],
   "source": [
    "w = np.zeros(7)\n",
    "\n",
    "def h(w, x):\n",
    "    s = 0\n",
    "    for i in range(len(x)):\n",
    "        s += x[i] * w[i]\n",
    "    return s\n",
    "\n",
    "print(h(np.array([0, 1, 7]), np.array([1, 2, 3])))\n",
    "print(h(w, X[0]))"
   ]
  },
  {
   "cell_type": "markdown",
   "metadata": {},
   "source": [
    "## Loss function\n",
    "\n",
    "Complete the definiton of the loss function below such that, for a **single** example `x` with ground truth `y`, it returns the $L_2$ loss of $h_w$ on `x`."
   ]
  },
  {
   "cell_type": "code",
   "execution_count": 100,
   "metadata": {},
   "outputs": [],
   "source": [
    "def loss(w, x, y):\n",
    "    \n",
    "    return (h(w, x) - y)**2\n",
    "\n"
   ]
  },
  {
   "cell_type": "markdown",
   "metadata": {},
   "source": [
    "## Empirical loss\n",
    "\n",
    "Complete the function below to compute the empirical loss of $h_w$ on a **set** of examples $X$ with associated ground truths $Y$."
   ]
  },
  {
   "cell_type": "code",
   "execution_count": 101,
   "metadata": {},
   "outputs": [
    {
     "name": "stdout",
     "output_type": "stream",
     "text": [
      "339.2467464285712\n"
     ]
    }
   ],
   "source": [
    "def emp_loss(w, X, Y):\n",
    "    \n",
    "    s = 0\n",
    "    for i in range(len(X)):\n",
    "        s += loss(w, X[i], Y[i])\n",
    "    \n",
    "    return s/len(X)\n",
    "    \n",
    "print(emp_loss(w, X, Y))"
   ]
  },
  {
   "cell_type": "markdown",
   "metadata": {},
   "source": [
    "## Gradient update\n",
    "\n",
    "A gradient update is of the form: $w \\gets w + dw$\n",
    "\n",
    "- Complete the function below so that it computes the $dw$ term (the 'update') based on a set of examples `(X, Y)` the step (`alpha`)\n",
    "\n",
    "If you are not sure about the gradient computation, check out the [perceptron slides](https://moodle.insa-toulouse.fr/pluginfile.php/120391/mod_resource/content/1/cm1.pdf) on [Moodle](https://moodle.insa-toulouse.fr/course/view.php?id=1822) (in particular, slide 26). Make sure this computation is clear to you!"
   ]
  },
  {
   "cell_type": "code",
   "execution_count": 129,
   "metadata": {},
   "outputs": [
    {
     "name": "stdout",
     "output_type": "stream",
     "text": [
      "[-0.000279274, 9.822360000000058e-05, -0.00016181183899999994, -0.0013891775699999998, -0.0012256563099999995, -0.0009122661100000004, 0.00029717197500000005]\n"
     ]
    }
   ],
   "source": [
    "# w : vecteur des poids\n",
    "# dw : vecteur des 'update' de chaque poids\n",
    "\n",
    "def compute_update(w, X, Y, alpha):\n",
    "    \n",
    "    \n",
    "    sum_list = []\n",
    "    \n",
    "    for i in range(len(w)):\n",
    "        s = 0\n",
    "        \n",
    "        for j in range(len(X)):\n",
    "            s +=  (Y[j] - h(w, X[j])) * X[j][i]\n",
    "            \n",
    "        sum_list.append(s)\n",
    "    \n",
    "    return [alpha * e for e in sum_list]\n",
    "\n",
    "print(compute_update(w, X, Y, alpha = 10e-7))"
   ]
  },
  {
   "cell_type": "markdown",
   "metadata": {},
   "source": [
    "## Gradient descent\n",
    "\n",
    "Now implement the gradient descent algorithm that will:\n",
    "\n",
    "- repeatedly apply an update the weights \n",
    "- stops when a max number of iterations is reached (do not consider early stopping for now)\n",
    "- returns the final vector of weights"
   ]
  },
  {
   "cell_type": "code",
   "execution_count": 130,
   "metadata": {},
   "outputs": [],
   "source": [
    "def descent(w_init, X, Y, alpha, max_iter):\n",
    "    \n",
    "    current_iter = 0\n",
    "    list_w = w_init[:] # deep copy to not alter w_init\n",
    "    \n",
    "    while current_iter < max_iter:\n",
    "        \n",
    "        \n",
    "        for j, w in enumerate(list_w):\n",
    "            w += compute_update(list_w, X, Y, alpha)[j]\n",
    "        \n",
    "        #print(emp_loss(current_w, X, Y))\n",
    "        \n",
    "        current_iter += 1\n",
    "    \n",
    "    return list_w"
   ]
  },
  {
   "cell_type": "markdown",
   "metadata": {},
   "source": [
    "## Exploitation\n",
    "\n",
    "You gradient descent is now complete and you can exploit it to train your perceptron.\n",
    "\n",
    "- Train your perceptron to get a model.\n",
    "- Visualize the evolution of the loss on the training set. Has it converged?\n",
    "- Try training for several choices of `alpha` and `max_iter`. What seem like a reasonable choice?\n",
    "- What is the loss associated with the final model?\n",
    "- Is the final model the optimal one for a perceptron?\n"
   ]
  },
  {
   "cell_type": "code",
   "execution_count": 142,
   "metadata": {},
   "outputs": [
    {
     "data": {
      "image/png": "[encoded data removed]",
      "text/plain": [
       "<Figure size 432x288 with 1 Axes>"
      ]
     },
     "metadata": {
      "needs_background": "light"
     },
     "output_type": "display_data"
    }
   ],
   "source": [
    "import matplotlib.pyplot as plt\n",
    "\n",
    "#w = np.empty_like(X)\n",
    "# The lower alpha is, the higher max_iter has to be\n",
    "w = np.zeros(7)\n",
    "les_y = []\n",
    "N_TESTS = 1000\n",
    "for i in range(N_TESTS):\n",
    "    \n",
    "    for j in range(len(w)):\n",
    "        w[j] += compute_update(w, X, Y, 10e-7)[j]\n",
    "            \n",
    "    les_y.append(emp_loss(w, X, Y))\n",
    "\n",
    "# Matplotlib affiche la taille de la figure au lieu de la figure elle-même, cette ligne règle le problème\n",
    "%matplotlib inline\n",
    "\n",
    "les_x = [k for k in range(N_TESTS)]\n",
    "plt.plot(les_x, les_y)\n",
    "plt.ylabel(\"Empirical Loss\")\n",
    "plt.ylabel(\"Iteration number\")\n",
    "plt.title(\"Evolution of the empirical loss\")\n",
    "plt.show()\n",
    "\n",
    "# For 10e-7 : 500 is enough, it converges very quickly"
   ]
  },
  {
   "cell_type": "code",
   "execution_count": null,
   "metadata": {},
   "outputs": [],
   "source": [
    "# Code sample that can be used to visualize the difference between the ground truth and the prediction\n",
    "\n",
    "num_samples_to_plot = 20\n",
    "plt.plot(Y[0:num_samples_to_plot], 'ro', label='y')\n",
    "yw = [h(w,x) for x in X]\n",
    "plt.plot(yw[0:num_samples_to_plot], 'bx', label='$\\hat{y}$')\n",
    "plt.legend()\n",
    "plt.xlabel(\"Examples\")\n",
    "plt.ylabel(\"f(examples)\")\n",
    "\n"
   ]
  },
  {
   "cell_type": "markdown",
   "metadata": {},
   "source": []
  },
  {
   "cell_type": "code",
   "execution_count": null,
   "metadata": {},
   "outputs": [],
   "source": []
  }
 ],
 "metadata": {
  "kernelspec": {
   "display_name": "Python 3",
   "language": "python",
   "name": "python3"
  },
  "language_info": {
   "codemirror_mode": {
    "name": "ipython",
    "version": 3
   },
   "file_extension": ".py",
   "mimetype": "text/x-python",
   "name": "python",
   "nbconvert_exporter": "python",
   "pygments_lexer": "ipython3",
   "version": "3.7.4"
  }
 },
 "nbformat": 4,
 "nbformat_minor": 4
}
